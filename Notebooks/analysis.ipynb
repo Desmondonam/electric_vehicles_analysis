{
 "cells": [
  {
   "cell_type": "code",
   "execution_count": 6,
   "id": "5b399aca",
   "metadata": {},
   "outputs": [
    {
     "data": {
      "text/html": [
       "<div>\n",
       "<style scoped>\n",
       "    .dataframe tbody tr th:only-of-type {\n",
       "        vertical-align: middle;\n",
       "    }\n",
       "\n",
       "    .dataframe tbody tr th {\n",
       "        vertical-align: top;\n",
       "    }\n",
       "\n",
       "    .dataframe thead th {\n",
       "        text-align: right;\n",
       "    }\n",
       "</style>\n",
       "<table border=\"1\" class=\"dataframe\">\n",
       "  <thead>\n",
       "    <tr style=\"text-align: right;\">\n",
       "      <th></th>\n",
       "      <th>VIN (1-10)</th>\n",
       "      <th>County</th>\n",
       "      <th>City</th>\n",
       "      <th>State</th>\n",
       "      <th>Postal Code</th>\n",
       "      <th>Model Year</th>\n",
       "      <th>Make</th>\n",
       "      <th>Model</th>\n",
       "      <th>Electric Vehicle Type</th>\n",
       "      <th>Clean Alternative Fuel Vehicle (CAFV) Eligibility</th>\n",
       "      <th>Electric Range</th>\n",
       "      <th>Base MSRP</th>\n",
       "      <th>Legislative District</th>\n",
       "      <th>DOL Vehicle ID</th>\n",
       "      <th>Vehicle Location</th>\n",
       "      <th>Electric Utility</th>\n",
       "      <th>2020 Census Tract</th>\n",
       "    </tr>\n",
       "  </thead>\n",
       "  <tbody>\n",
       "    <tr>\n",
       "      <th>0</th>\n",
       "      <td>5YJYGDEE1L</td>\n",
       "      <td>King</td>\n",
       "      <td>Seattle</td>\n",
       "      <td>WA</td>\n",
       "      <td>98122.0</td>\n",
       "      <td>2020</td>\n",
       "      <td>TESLA</td>\n",
       "      <td>MODEL Y</td>\n",
       "      <td>Battery Electric Vehicle (BEV)</td>\n",
       "      <td>Clean Alternative Fuel Vehicle Eligible</td>\n",
       "      <td>291</td>\n",
       "      <td>0</td>\n",
       "      <td>37.0</td>\n",
       "      <td>125701579</td>\n",
       "      <td>POINT (-122.30839 47.610365)</td>\n",
       "      <td>CITY OF SEATTLE - (WA)|CITY OF TACOMA - (WA)</td>\n",
       "      <td>5.303301e+10</td>\n",
       "    </tr>\n",
       "    <tr>\n",
       "      <th>1</th>\n",
       "      <td>7SAYGDEE9P</td>\n",
       "      <td>Snohomish</td>\n",
       "      <td>Bothell</td>\n",
       "      <td>WA</td>\n",
       "      <td>98021.0</td>\n",
       "      <td>2023</td>\n",
       "      <td>TESLA</td>\n",
       "      <td>MODEL Y</td>\n",
       "      <td>Battery Electric Vehicle (BEV)</td>\n",
       "      <td>Eligibility unknown as battery range has not b...</td>\n",
       "      <td>0</td>\n",
       "      <td>0</td>\n",
       "      <td>1.0</td>\n",
       "      <td>244285107</td>\n",
       "      <td>POINT (-122.179458 47.802589)</td>\n",
       "      <td>PUGET SOUND ENERGY INC</td>\n",
       "      <td>5.306105e+10</td>\n",
       "    </tr>\n",
       "    <tr>\n",
       "      <th>2</th>\n",
       "      <td>5YJSA1E4XK</td>\n",
       "      <td>King</td>\n",
       "      <td>Seattle</td>\n",
       "      <td>WA</td>\n",
       "      <td>98109.0</td>\n",
       "      <td>2019</td>\n",
       "      <td>TESLA</td>\n",
       "      <td>MODEL S</td>\n",
       "      <td>Battery Electric Vehicle (BEV)</td>\n",
       "      <td>Clean Alternative Fuel Vehicle Eligible</td>\n",
       "      <td>270</td>\n",
       "      <td>0</td>\n",
       "      <td>36.0</td>\n",
       "      <td>156773144</td>\n",
       "      <td>POINT (-122.34848 47.632405)</td>\n",
       "      <td>CITY OF SEATTLE - (WA)|CITY OF TACOMA - (WA)</td>\n",
       "      <td>5.303301e+10</td>\n",
       "    </tr>\n",
       "    <tr>\n",
       "      <th>3</th>\n",
       "      <td>5YJSA1E27G</td>\n",
       "      <td>King</td>\n",
       "      <td>Issaquah</td>\n",
       "      <td>WA</td>\n",
       "      <td>98027.0</td>\n",
       "      <td>2016</td>\n",
       "      <td>TESLA</td>\n",
       "      <td>MODEL S</td>\n",
       "      <td>Battery Electric Vehicle (BEV)</td>\n",
       "      <td>Clean Alternative Fuel Vehicle Eligible</td>\n",
       "      <td>210</td>\n",
       "      <td>0</td>\n",
       "      <td>5.0</td>\n",
       "      <td>165103011</td>\n",
       "      <td>POINT (-122.03646 47.534065)</td>\n",
       "      <td>PUGET SOUND ENERGY INC||CITY OF TACOMA - (WA)</td>\n",
       "      <td>5.303303e+10</td>\n",
       "    </tr>\n",
       "    <tr>\n",
       "      <th>4</th>\n",
       "      <td>5YJYGDEE5M</td>\n",
       "      <td>Kitsap</td>\n",
       "      <td>Suquamish</td>\n",
       "      <td>WA</td>\n",
       "      <td>98392.0</td>\n",
       "      <td>2021</td>\n",
       "      <td>TESLA</td>\n",
       "      <td>MODEL Y</td>\n",
       "      <td>Battery Electric Vehicle (BEV)</td>\n",
       "      <td>Eligibility unknown as battery range has not b...</td>\n",
       "      <td>0</td>\n",
       "      <td>0</td>\n",
       "      <td>23.0</td>\n",
       "      <td>205138552</td>\n",
       "      <td>POINT (-122.55717 47.733415)</td>\n",
       "      <td>PUGET SOUND ENERGY INC</td>\n",
       "      <td>5.303594e+10</td>\n",
       "    </tr>\n",
       "  </tbody>\n",
       "</table>\n",
       "</div>"
      ],
      "text/plain": [
       "   VIN (1-10)     County       City State  Postal Code  Model Year   Make  \\\n",
       "0  5YJYGDEE1L       King    Seattle    WA      98122.0        2020  TESLA   \n",
       "1  7SAYGDEE9P  Snohomish    Bothell    WA      98021.0        2023  TESLA   \n",
       "2  5YJSA1E4XK       King    Seattle    WA      98109.0        2019  TESLA   \n",
       "3  5YJSA1E27G       King   Issaquah    WA      98027.0        2016  TESLA   \n",
       "4  5YJYGDEE5M     Kitsap  Suquamish    WA      98392.0        2021  TESLA   \n",
       "\n",
       "     Model           Electric Vehicle Type  \\\n",
       "0  MODEL Y  Battery Electric Vehicle (BEV)   \n",
       "1  MODEL Y  Battery Electric Vehicle (BEV)   \n",
       "2  MODEL S  Battery Electric Vehicle (BEV)   \n",
       "3  MODEL S  Battery Electric Vehicle (BEV)   \n",
       "4  MODEL Y  Battery Electric Vehicle (BEV)   \n",
       "\n",
       "   Clean Alternative Fuel Vehicle (CAFV) Eligibility  Electric Range  \\\n",
       "0            Clean Alternative Fuel Vehicle Eligible             291   \n",
       "1  Eligibility unknown as battery range has not b...               0   \n",
       "2            Clean Alternative Fuel Vehicle Eligible             270   \n",
       "3            Clean Alternative Fuel Vehicle Eligible             210   \n",
       "4  Eligibility unknown as battery range has not b...               0   \n",
       "\n",
       "   Base MSRP  Legislative District  DOL Vehicle ID  \\\n",
       "0          0                  37.0       125701579   \n",
       "1          0                   1.0       244285107   \n",
       "2          0                  36.0       156773144   \n",
       "3          0                   5.0       165103011   \n",
       "4          0                  23.0       205138552   \n",
       "\n",
       "                Vehicle Location  \\\n",
       "0   POINT (-122.30839 47.610365)   \n",
       "1  POINT (-122.179458 47.802589)   \n",
       "2   POINT (-122.34848 47.632405)   \n",
       "3   POINT (-122.03646 47.534065)   \n",
       "4   POINT (-122.55717 47.733415)   \n",
       "\n",
       "                                Electric Utility  2020 Census Tract  \n",
       "0   CITY OF SEATTLE - (WA)|CITY OF TACOMA - (WA)       5.303301e+10  \n",
       "1                         PUGET SOUND ENERGY INC       5.306105e+10  \n",
       "2   CITY OF SEATTLE - (WA)|CITY OF TACOMA - (WA)       5.303301e+10  \n",
       "3  PUGET SOUND ENERGY INC||CITY OF TACOMA - (WA)       5.303303e+10  \n",
       "4                         PUGET SOUND ENERGY INC       5.303594e+10  "
      ]
     },
     "execution_count": 6,
     "metadata": {},
     "output_type": "execute_result"
    }
   ],
   "source": [
    "import pandas as pd\n",
    "import matplotlib.pyplot as plt\n",
    "import seaborn as sns\n",
    "sns.set_style(\"whitegrid\")\n",
    "path = r'C:\\Users\\Admin\\Desktop\\Desney\\Projects\\Electric_vehicles_analysis\\Electric_Vehicle_Population_Data.csv'\n",
    "\n",
    "ev_data = pd.read_csv(path)\n",
    "\n",
    "ev_data.head()"
   ]
  },
  {
   "cell_type": "code",
   "execution_count": 3,
   "id": "1a185bc6",
   "metadata": {},
   "outputs": [
    {
     "name": "stdout",
     "output_type": "stream",
     "text": [
      "<class 'pandas.core.frame.DataFrame'>\n",
      "RangeIndex: 177866 entries, 0 to 177865\n",
      "Data columns (total 17 columns):\n",
      " #   Column                                             Non-Null Count   Dtype  \n",
      "---  ------                                             --------------   -----  \n",
      " 0   VIN (1-10)                                         177866 non-null  object \n",
      " 1   County                                             177861 non-null  object \n",
      " 2   City                                               177861 non-null  object \n",
      " 3   State                                              177866 non-null  object \n",
      " 4   Postal Code                                        177861 non-null  float64\n",
      " 5   Model Year                                         177866 non-null  int64  \n",
      " 6   Make                                               177866 non-null  object \n",
      " 7   Model                                              177866 non-null  object \n",
      " 8   Electric Vehicle Type                              177866 non-null  object \n",
      " 9   Clean Alternative Fuel Vehicle (CAFV) Eligibility  177866 non-null  object \n",
      " 10  Electric Range                                     177866 non-null  int64  \n",
      " 11  Base MSRP                                          177866 non-null  int64  \n",
      " 12  Legislative District                               177477 non-null  float64\n",
      " 13  DOL Vehicle ID                                     177866 non-null  int64  \n",
      " 14  Vehicle Location                                   177857 non-null  object \n",
      " 15  Electric Utility                                   177861 non-null  object \n",
      " 16  2020 Census Tract                                  177861 non-null  float64\n",
      "dtypes: float64(3), int64(4), object(10)\n",
      "memory usage: 23.1+ MB\n"
     ]
    }
   ],
   "source": [
    "ev_data.info()"
   ]
  },
  {
   "cell_type": "code",
   "execution_count": 5,
   "id": "ae0a276b",
   "metadata": {},
   "outputs": [
    {
     "data": {
      "text/plain": [
       "VIN (1-10)                                             0\n",
       "County                                                 5\n",
       "City                                                   5\n",
       "State                                                  0\n",
       "Postal Code                                            5\n",
       "Model Year                                             0\n",
       "Make                                                   0\n",
       "Model                                                  0\n",
       "Electric Vehicle Type                                  0\n",
       "Clean Alternative Fuel Vehicle (CAFV) Eligibility      0\n",
       "Electric Range                                         0\n",
       "Base MSRP                                              0\n",
       "Legislative District                                 389\n",
       "DOL Vehicle ID                                         0\n",
       "Vehicle Location                                       9\n",
       "Electric Utility                                       5\n",
       "2020 Census Tract                                      5\n",
       "dtype: int64"
      ]
     },
     "execution_count": 5,
     "metadata": {},
     "output_type": "execute_result"
    }
   ],
   "source": [
    "ev_data.isnull().sum()"
   ]
  },
  {
   "cell_type": "code",
   "execution_count": 8,
   "id": "5316d4f4",
   "metadata": {},
   "outputs": [
    {
     "data": {
      "text/plain": [
       "(177866, 17)"
      ]
     },
     "execution_count": 8,
     "metadata": {},
     "output_type": "execute_result"
    }
   ],
   "source": [
    "ev_data.shape"
   ]
  },
  {
   "cell_type": "markdown",
   "id": "33b73f7c",
   "metadata": {},
   "source": [
    "### Fill the missing values\n"
   ]
  },
  {
   "cell_type": "code",
   "execution_count": 9,
   "id": "101fb832",
   "metadata": {},
   "outputs": [
    {
     "name": "stderr",
     "output_type": "stream",
     "text": [
      "C:\\Users\\Admin\\AppData\\Local\\Temp\\ipykernel_35488\\164019872.py:3: FutureWarning: A value is trying to be set on a copy of a DataFrame or Series through chained assignment using an inplace method.\n",
      "The behavior will change in pandas 3.0. This inplace method will never work because the intermediate object on which we are setting values always behaves as a copy.\n",
      "\n",
      "For example, when doing 'df[col].method(value, inplace=True)', try using 'df.method({col: value}, inplace=True)' or df[col] = df[col].method(value) instead, to perform the operation inplace on the original object.\n",
      "\n",
      "\n",
      "  ev_data[col].fillna(ev_data[col].mean(), inplace=True)\n",
      "C:\\Users\\Admin\\AppData\\Local\\Temp\\ipykernel_35488\\164019872.py:7: FutureWarning: A value is trying to be set on a copy of a DataFrame or Series through chained assignment using an inplace method.\n",
      "The behavior will change in pandas 3.0. This inplace method will never work because the intermediate object on which we are setting values always behaves as a copy.\n",
      "\n",
      "For example, when doing 'df[col].method(value, inplace=True)', try using 'df.method({col: value}, inplace=True)' or df[col] = df[col].method(value) instead, to perform the operation inplace on the original object.\n",
      "\n",
      "\n",
      "  ev_data[col].fillna(ev_data[col].mode()[0], inplace=True)\n"
     ]
    },
    {
     "name": "stdout",
     "output_type": "stream",
     "text": [
      "VIN (1-10)                                           0\n",
      "County                                               0\n",
      "City                                                 0\n",
      "State                                                0\n",
      "Postal Code                                          0\n",
      "Model Year                                           0\n",
      "Make                                                 0\n",
      "Model                                                0\n",
      "Electric Vehicle Type                                0\n",
      "Clean Alternative Fuel Vehicle (CAFV) Eligibility    0\n",
      "Electric Range                                       0\n",
      "Base MSRP                                            0\n",
      "Legislative District                                 0\n",
      "DOL Vehicle ID                                       0\n",
      "Vehicle Location                                     0\n",
      "Electric Utility                                     0\n",
      "2020 Census Tract                                    0\n",
      "dtype: int64\n"
     ]
    }
   ],
   "source": [
    "# Fill missing values for numeric columns with mean\n",
    "for col in ev_data.select_dtypes(include=['number']).columns:\n",
    "    ev_data[col].fillna(ev_data[col].mean(), inplace=True)\n",
    "\n",
    "# Fill missing values for categorical columns with mode\n",
    "for col in ev_data.select_dtypes(include=['object', 'category']).columns:\n",
    "    ev_data[col].fillna(ev_data[col].mode()[0], inplace=True)\n",
    "\n",
    "# Check if all missing values are filled\n",
    "print(ev_data.isnull().sum())"
   ]
  },
  {
   "cell_type": "markdown",
   "id": "225b4bf1",
   "metadata": {},
   "source": [
    "## Analysis"
   ]
  },
  {
   "cell_type": "code",
   "execution_count": 11,
   "id": "76195b63",
   "metadata": {},
   "outputs": [],
   "source": [
    "import pandas as pd\n",
    "import numpy as np\n",
    "import matplotlib.pyplot as plt\n",
    "import seaborn as sns\n",
    "import plotly.express as px\n",
    "import plotly.graph_objects as go\n",
    "from plotly.subplots import make_subplots\n",
    "import plotly.figure_factory as ff\n",
    "from collections import Counter\n",
    "import warnings\n",
    "warnings.filterwarnings('ignore')"
   ]
  },
  {
   "cell_type": "code",
   "execution_count": 12,
   "id": "1de6d8ae",
   "metadata": {},
   "outputs": [],
   "source": [
    "# Set style for matplotlib\n",
    "plt.style.use('seaborn-v0_8')\n",
    "sns.set_palette(\"husl\")"
   ]
  },
  {
   "cell_type": "code",
   "execution_count": 13,
   "id": "c5ddbbba",
   "metadata": {},
   "outputs": [],
   "source": [
    "df = ev_data.copy()"
   ]
  },
  {
   "cell_type": "code",
   "execution_count": 14,
   "id": "1156d03a",
   "metadata": {},
   "outputs": [
    {
     "name": "stdout",
     "output_type": "stream",
     "text": [
      "\n",
      "1. DATASET OVERVIEW\n",
      "------------------------------\n",
      "Dataset Shape: (177866, 17)\n",
      "Memory Usage: 23.07 MB\n"
     ]
    }
   ],
   "source": [
    "# 1. BASIC DATA EXPLORATION\n",
    "print(\"\\n1. DATASET OVERVIEW\")\n",
    "print(\"-\"*30)\n",
    "print(f\"Dataset Shape: {df.shape}\")\n",
    "print(f\"Memory Usage: {df.memory_usage().sum() / 1024**2:.2f} MB\")\n"
   ]
  },
  {
   "cell_type": "code",
   "execution_count": 15,
   "id": "ac6b9a9b",
   "metadata": {},
   "outputs": [
    {
     "name": "stdout",
     "output_type": "stream",
     "text": [
      "\n",
      "Column Information:\n",
      "- VIN (1-10): object\n",
      "- County: object\n",
      "- City: object\n",
      "- State: object\n",
      "- Postal Code: float64\n",
      "- Model Year: int64\n",
      "- Make: object\n",
      "- Model: object\n",
      "- Electric Vehicle Type: object\n",
      "- Clean Alternative Fuel Vehicle (CAFV) Eligibility: object\n",
      "- Electric Range: int64\n",
      "- Base MSRP: int64\n",
      "- Legislative District: float64\n",
      "- DOL Vehicle ID: int64\n",
      "- Vehicle Location: object\n",
      "- Electric Utility: object\n",
      "- 2020 Census Tract: float64\n"
     ]
    }
   ],
   "source": [
    "print(\"\\nColumn Information:\")\n",
    "for col in df.columns:\n",
    "    print(f\"- {col}: {df[col].dtype}\")"
   ]
  },
  {
   "cell_type": "code",
   "execution_count": 16,
   "id": "e98af7a4",
   "metadata": {},
   "outputs": [
    {
     "name": "stdout",
     "output_type": "stream",
     "text": [
      "\n",
      "Data Types Distribution:\n",
      "object     10\n",
      "int64       4\n",
      "float64     3\n",
      "Name: count, dtype: int64\n"
     ]
    }
   ],
   "source": [
    "print(f\"\\nData Types Distribution:\")\n",
    "print(df.dtypes.value_counts())"
   ]
  },
  {
   "cell_type": "code",
   "execution_count": 17,
   "id": "a1b419dd",
   "metadata": {},
   "outputs": [
    {
     "name": "stdout",
     "output_type": "stream",
     "text": [
      "\n",
      "\n",
      "2. DESCRIPTIVE STATISTICS\n",
      "------------------------------\n"
     ]
    }
   ],
   "source": [
    "# 2. DESCRIPTIVE STATISTICS\n",
    "print(\"\\n\\n2. DESCRIPTIVE STATISTICS\")\n",
    "print(\"-\"*30)"
   ]
  },
  {
   "cell_type": "code",
   "execution_count": 18,
   "id": "a1e87796",
   "metadata": {},
   "outputs": [
    {
     "name": "stdout",
     "output_type": "stream",
     "text": [
      "\n",
      "Numerical Columns Summary:\n",
      "         Postal Code     Model Year  Electric Range      Base MSRP  \\\n",
      "count  177866.000000  177866.000000   177866.000000  177866.000000   \n",
      "mean    98172.453506    2020.515512       58.842162    1073.109363   \n",
      "std      2442.416338       2.989384       91.981298    8358.624956   \n",
      "min      1545.000000    1997.000000        0.000000       0.000000   \n",
      "25%     98052.000000    2019.000000        0.000000       0.000000   \n",
      "50%     98122.000000    2022.000000        0.000000       0.000000   \n",
      "75%     98370.000000    2023.000000       75.000000       0.000000   \n",
      "max     99577.000000    2024.000000      337.000000  845000.000000   \n",
      "\n",
      "       Legislative District  DOL Vehicle ID  2020 Census Tract  \n",
      "count         177866.000000    1.778660e+05       1.778660e+05  \n",
      "mean              29.127481    2.202313e+08       5.297672e+10  \n",
      "std               14.875875    7.584987e+07       1.578025e+09  \n",
      "min                1.000000    4.385000e+03       1.001020e+09  \n",
      "25%               18.000000    1.814743e+08       5.303301e+10  \n",
      "50%               33.000000    2.282522e+08       5.303303e+10  \n",
      "75%               42.000000    2.548445e+08       5.305307e+10  \n",
      "max               49.000000    4.792548e+08       5.603300e+10  \n"
     ]
    }
   ],
   "source": [
    "# Numerical columns analysis\n",
    "numerical_cols = df.select_dtypes(include=[np.number]).columns.tolist()\n",
    "if numerical_cols:\n",
    "    print(\"\\nNumerical Columns Summary:\")\n",
    "    print(df[numerical_cols].describe())\n"
   ]
  },
  {
   "cell_type": "code",
   "execution_count": 19,
   "id": "8dbe4852",
   "metadata": {},
   "outputs": [
    {
     "name": "stdout",
     "output_type": "stream",
     "text": [
      "\n",
      "Categorical Columns: 10\n",
      "\n",
      "VIN (1-10) - Unique Values: 10830\n",
      "VIN (1-10)\n",
      "7SAYGDEE6P    1239\n",
      "7SAYGDEE7P    1235\n",
      "7SAYGDEE8P    1197\n",
      "7SAYGDEEXP    1191\n",
      "7SAYGDEE5P    1177\n",
      "Name: count, dtype: int64\n",
      "\n",
      "County - Unique Values: 196\n",
      "County\n",
      "King         92745\n",
      "Snohomish    21001\n",
      "Pierce       13782\n",
      "Clark        10416\n",
      "Thurston      6428\n",
      "Name: count, dtype: int64\n",
      "\n",
      "City - Unique Values: 723\n",
      "City\n",
      "Seattle      29452\n",
      "Bellevue      8931\n",
      "Redmond       6478\n",
      "Vancouver     6193\n",
      "Bothell       5863\n",
      "Name: count, dtype: int64\n",
      "\n",
      "State - Unique Values: 46\n",
      "State\n",
      "WA    177477\n",
      "CA       101\n",
      "VA        46\n",
      "MD        31\n",
      "TX        23\n",
      "Name: count, dtype: int64\n",
      "\n",
      "Make - Unique Values: 40\n",
      "Make\n",
      "TESLA        79659\n",
      "NISSAN       13998\n",
      "CHEVROLET    13678\n",
      "FORD          9199\n",
      "BMW           7570\n",
      "Name: count, dtype: int64\n"
     ]
    }
   ],
   "source": [
    "# Categorical columns analysis\n",
    "categorical_cols = df.select_dtypes(include=['object']).columns.tolist()\n",
    "print(f\"\\nCategorical Columns: {len(categorical_cols)}\")\n",
    "for col in categorical_cols[:5]:  # Show first 5\n",
    "    print(f\"\\n{col} - Unique Values: {df[col].nunique()}\")\n",
    "    print(df[col].value_counts().head())\n"
   ]
  },
  {
   "cell_type": "code",
   "execution_count": 20,
   "id": "4437c790",
   "metadata": {},
   "outputs": [
    {
     "name": "stdout",
     "output_type": "stream",
     "text": [
      "\n",
      "\n",
      "3. ELECTRIC VEHICLE MARKET ANALYSIS\n",
      "----------------------------------------\n",
      "\n",
      "Top 10 Electric Vehicle Makes:\n",
      "Make\n",
      "TESLA         79659\n",
      "NISSAN        13998\n",
      "CHEVROLET     13678\n",
      "FORD           9199\n",
      "BMW            7570\n",
      "KIA            7432\n",
      "TOYOTA         6288\n",
      "VOLKSWAGEN     5004\n",
      "JEEP           4480\n",
      "HYUNDAI        4406\n",
      "Name: count, dtype: int64\n"
     ]
    }
   ],
   "source": [
    "# 3. ELECTRIC VEHICLE MARKET ANALYSIS\n",
    "print(\"\\n\\n3. ELECTRIC VEHICLE MARKET ANALYSIS\")\n",
    "print(\"-\"*40)\n",
    "\n",
    "# Make distribution analysis\n",
    "make_counts = df['Make'].value_counts()\n",
    "print(f\"\\nTop 10 Electric Vehicle Makes:\")\n",
    "print(make_counts.head(10))"
   ]
  },
  {
   "cell_type": "code",
   "execution_count": 21,
   "id": "214bd1b3",
   "metadata": {},
   "outputs": [
    {
     "name": "stdout",
     "output_type": "stream",
     "text": [
      "\n",
      "Electric Vehicle Adoption by Year:\n",
      "Model Year\n",
      "2015     4844\n",
      "2016     5483\n",
      "2017     8562\n",
      "2018    14323\n",
      "2019    10940\n",
      "2020    11768\n",
      "2021    19132\n",
      "2022    27776\n",
      "2023    57587\n",
      "2024     7080\n",
      "Name: count, dtype: int64\n",
      "\n",
      "Electric Vehicle Types:\n",
      "Electric Vehicle Type\n",
      "Battery Electric Vehicle (BEV)            139210\n",
      "Plug-in Hybrid Electric Vehicle (PHEV)     38656\n",
      "Name: count, dtype: int64\n"
     ]
    }
   ],
   "source": [
    "# Model Year analysis\n",
    "model_year_counts = df['Model Year'].value_counts().sort_index()\n",
    "print(f\"\\nElectric Vehicle Adoption by Year:\")\n",
    "print(model_year_counts.tail(10))\n",
    "\n",
    "# Electric Vehicle Type analysis\n",
    "ev_type_counts = df['Electric Vehicle Type'].value_counts()\n",
    "print(f\"\\nElectric Vehicle Types:\")\n",
    "print(ev_type_counts)"
   ]
  },
  {
   "cell_type": "code",
   "execution_count": 22,
   "id": "3c50829d",
   "metadata": {},
   "outputs": [
    {
     "name": "stdout",
     "output_type": "stream",
     "text": [
      "\n",
      "Top 10 States by EV Registration:\n",
      "State\n",
      "WA    177477\n",
      "CA       101\n",
      "VA        46\n",
      "MD        31\n",
      "TX        23\n",
      "NC        16\n",
      "IL        15\n",
      "CO        12\n",
      "FL        10\n",
      "AZ        10\n",
      "Name: count, dtype: int64\n",
      "\n",
      "\n",
      "4. ADVANCED ANALYSIS\n",
      "-------------------------\n"
     ]
    }
   ],
   "source": [
    "# Geographic distribution\n",
    "state_counts = df['State'].value_counts()\n",
    "print(f\"\\nTop 10 States by EV Registration:\")\n",
    "print(state_counts.head(10))\n",
    "\n",
    "# 4. ADVANCED ANALYSIS\n",
    "print(\"\\n\\n4. ADVANCED ANALYSIS\")\n",
    "print(\"-\"*25)"
   ]
  },
  {
   "cell_type": "code",
   "execution_count": 23,
   "id": "cb8b471c",
   "metadata": {},
   "outputs": [
    {
     "name": "stdout",
     "output_type": "stream",
     "text": [
      "\n",
      "Electric Range Statistics:\n",
      "count    177866.000000\n",
      "mean         58.842162\n",
      "std          91.981298\n",
      "min           0.000000\n",
      "25%           0.000000\n",
      "50%           0.000000\n",
      "75%          75.000000\n",
      "max         337.000000\n",
      "Name: Electric Range, dtype: float64\n",
      "\n",
      "Electric Range by Vehicle Type:\n",
      "                                             mean  median         std\n",
      "Electric Vehicle Type                                                \n",
      "Battery Electric Vehicle (BEV)          66.627318     0.0  102.288591\n",
      "Plug-in Hybrid Electric Vehicle (PHEV)  30.805852    28.0   15.658229\n"
     ]
    }
   ],
   "source": [
    "# Electric Range Analysis\n",
    "if 'Electric Range' in df.columns:\n",
    "    range_stats = df['Electric Range'].describe()\n",
    "    print(f\"\\nElectric Range Statistics:\")\n",
    "    print(range_stats)\n",
    "    \n",
    "    # Range by vehicle type\n",
    "    range_by_type = df.groupby('Electric Vehicle Type')['Electric Range'].agg(['mean', 'median', 'std'])\n",
    "    print(f\"\\nElectric Range by Vehicle Type:\")\n",
    "    print(range_by_type)\n"
   ]
  },
  {
   "cell_type": "code",
   "execution_count": 24,
   "id": "46247563",
   "metadata": {},
   "outputs": [
    {
     "name": "stdout",
     "output_type": "stream",
     "text": [
      "\n",
      "Base MSRP Statistics (excluding $0):\n",
      "count      3344.000000\n",
      "mean      57078.250598\n",
      "std       22795.518132\n",
      "min       31950.000000\n",
      "25%       39995.000000\n",
      "50%       59900.000000\n",
      "75%       69900.000000\n",
      "max      845000.000000\n",
      "Name: Base MSRP, dtype: float64\n"
     ]
    }
   ],
   "source": [
    "# MSRP Analysis\n",
    "if 'Base MSRP' in df.columns and df['Base MSRP'].sum() > 0:\n",
    "    msrp_stats = df[df['Base MSRP'] > 0]['Base MSRP'].describe()\n",
    "    print(f\"\\nBase MSRP Statistics (excluding $0):\")\n",
    "    print(msrp_stats)\n"
   ]
  },
  {
   "cell_type": "code",
   "execution_count": 25,
   "id": "813812b8",
   "metadata": {},
   "outputs": [
    {
     "name": "stdout",
     "output_type": "stream",
     "text": [
      "\n",
      "CAFV Eligibility Distribution:\n",
      "Clean Alternative Fuel Vehicle (CAFV) Eligibility\n",
      "Eligibility unknown as battery range has not been researched    91950\n",
      "Clean Alternative Fuel Vehicle Eligible                         66331\n",
      "Not eligible due to low battery range                           19585\n",
      "Name: count, dtype: int64\n"
     ]
    }
   ],
   "source": [
    "# CAFV Eligibility Analysis\n",
    "cafv_counts = df['Clean Alternative Fuel Vehicle (CAFV) Eligibility'].value_counts()\n",
    "print(f\"\\nCAFV Eligibility Distribution:\")\n",
    "print(cafv_counts)"
   ]
  },
  {
   "cell_type": "code",
   "execution_count": 28,
   "id": "900684b1",
   "metadata": {},
   "outputs": [
    {
     "name": "stdout",
     "output_type": "stream",
     "text": [
      "\n",
      "\n",
      "5. CREATING VISUALIZATIONS\n",
      "-----------------------------------\n"
     ]
    },
    {
     "ename": "ValueError",
     "evalue": "Invalid color rgb(141,211,199)",
     "output_type": "error",
     "traceback": [
      "\u001b[1;31m---------------------------------------------------------------------------\u001b[0m",
      "\u001b[1;31mValueError\u001b[0m                                Traceback (most recent call last)",
      "Cell \u001b[1;32mIn[28], line 13\u001b[0m\n\u001b[0;32m     11\u001b[0m top_makes \u001b[38;5;241m=\u001b[39m make_counts\u001b[38;5;241m.\u001b[39mhead(\u001b[38;5;241m15\u001b[39m)\n\u001b[0;32m     12\u001b[0m plt\u001b[38;5;241m.\u001b[39msubplot(\u001b[38;5;241m2\u001b[39m, \u001b[38;5;241m3\u001b[39m, \u001b[38;5;241m1\u001b[39m)\n\u001b[1;32m---> 13\u001b[0m \u001b[43mtop_makes\u001b[49m\u001b[38;5;241;43m.\u001b[39;49m\u001b[43mplot\u001b[49m\u001b[43m(\u001b[49m\u001b[43mkind\u001b[49m\u001b[38;5;241;43m=\u001b[39;49m\u001b[38;5;124;43m'\u001b[39;49m\u001b[38;5;124;43mbar\u001b[39;49m\u001b[38;5;124;43m'\u001b[39;49m\u001b[43m,\u001b[49m\u001b[43m \u001b[49m\u001b[43mcolor\u001b[49m\u001b[38;5;241;43m=\u001b[39;49m\u001b[43mcolors\u001b[49m\u001b[43m[\u001b[49m\u001b[43m:\u001b[49m\u001b[38;5;28;43mlen\u001b[39;49m\u001b[43m(\u001b[49m\u001b[43mtop_makes\u001b[49m\u001b[43m)\u001b[49m\u001b[43m]\u001b[49m\u001b[43m)\u001b[49m\n\u001b[0;32m     14\u001b[0m plt\u001b[38;5;241m.\u001b[39mtitle(\u001b[38;5;124m'\u001b[39m\u001b[38;5;124mTop 15 EV Makes by Registration Count\u001b[39m\u001b[38;5;124m'\u001b[39m, fontsize\u001b[38;5;241m=\u001b[39m\u001b[38;5;241m12\u001b[39m, fontweight\u001b[38;5;241m=\u001b[39m\u001b[38;5;124m'\u001b[39m\u001b[38;5;124mbold\u001b[39m\u001b[38;5;124m'\u001b[39m)\n\u001b[0;32m     15\u001b[0m plt\u001b[38;5;241m.\u001b[39mxlabel(\u001b[38;5;124m'\u001b[39m\u001b[38;5;124mMake\u001b[39m\u001b[38;5;124m'\u001b[39m)\n",
      "File \u001b[1;32md:\\Data\\Anaconda3\\Lib\\site-packages\\pandas\\plotting\\_core.py:1030\u001b[0m, in \u001b[0;36mPlotAccessor.__call__\u001b[1;34m(self, *args, **kwargs)\u001b[0m\n\u001b[0;32m   1027\u001b[0m             label_name \u001b[38;5;241m=\u001b[39m label_kw \u001b[38;5;129;01mor\u001b[39;00m data\u001b[38;5;241m.\u001b[39mcolumns\n\u001b[0;32m   1028\u001b[0m             data\u001b[38;5;241m.\u001b[39mcolumns \u001b[38;5;241m=\u001b[39m label_name\n\u001b[1;32m-> 1030\u001b[0m \u001b[38;5;28;01mreturn\u001b[39;00m \u001b[43mplot_backend\u001b[49m\u001b[38;5;241;43m.\u001b[39;49m\u001b[43mplot\u001b[49m\u001b[43m(\u001b[49m\u001b[43mdata\u001b[49m\u001b[43m,\u001b[49m\u001b[43m \u001b[49m\u001b[43mkind\u001b[49m\u001b[38;5;241;43m=\u001b[39;49m\u001b[43mkind\u001b[49m\u001b[43m,\u001b[49m\u001b[43m \u001b[49m\u001b[38;5;241;43m*\u001b[39;49m\u001b[38;5;241;43m*\u001b[39;49m\u001b[43mkwargs\u001b[49m\u001b[43m)\u001b[49m\n",
      "File \u001b[1;32md:\\Data\\Anaconda3\\Lib\\site-packages\\pandas\\plotting\\_matplotlib\\__init__.py:71\u001b[0m, in \u001b[0;36mplot\u001b[1;34m(data, kind, **kwargs)\u001b[0m\n\u001b[0;32m     69\u001b[0m         kwargs[\u001b[38;5;124m\"\u001b[39m\u001b[38;5;124max\u001b[39m\u001b[38;5;124m\"\u001b[39m] \u001b[38;5;241m=\u001b[39m \u001b[38;5;28mgetattr\u001b[39m(ax, \u001b[38;5;124m\"\u001b[39m\u001b[38;5;124mleft_ax\u001b[39m\u001b[38;5;124m\"\u001b[39m, ax)\n\u001b[0;32m     70\u001b[0m plot_obj \u001b[38;5;241m=\u001b[39m PLOT_CLASSES[kind](data, \u001b[38;5;241m*\u001b[39m\u001b[38;5;241m*\u001b[39mkwargs)\n\u001b[1;32m---> 71\u001b[0m \u001b[43mplot_obj\u001b[49m\u001b[38;5;241;43m.\u001b[39;49m\u001b[43mgenerate\u001b[49m\u001b[43m(\u001b[49m\u001b[43m)\u001b[49m\n\u001b[0;32m     72\u001b[0m plot_obj\u001b[38;5;241m.\u001b[39mdraw()\n\u001b[0;32m     73\u001b[0m \u001b[38;5;28;01mreturn\u001b[39;00m plot_obj\u001b[38;5;241m.\u001b[39mresult\n",
      "File \u001b[1;32md:\\Data\\Anaconda3\\Lib\\site-packages\\pandas\\plotting\\_matplotlib\\core.py:501\u001b[0m, in \u001b[0;36mMPLPlot.generate\u001b[1;34m(self)\u001b[0m\n\u001b[0;32m    499\u001b[0m \u001b[38;5;28mself\u001b[39m\u001b[38;5;241m.\u001b[39m_compute_plot_data()\n\u001b[0;32m    500\u001b[0m fig \u001b[38;5;241m=\u001b[39m \u001b[38;5;28mself\u001b[39m\u001b[38;5;241m.\u001b[39mfig\n\u001b[1;32m--> 501\u001b[0m \u001b[38;5;28;43mself\u001b[39;49m\u001b[38;5;241;43m.\u001b[39;49m\u001b[43m_make_plot\u001b[49m\u001b[43m(\u001b[49m\u001b[43mfig\u001b[49m\u001b[43m)\u001b[49m\n\u001b[0;32m    502\u001b[0m \u001b[38;5;28mself\u001b[39m\u001b[38;5;241m.\u001b[39m_add_table()\n\u001b[0;32m    503\u001b[0m \u001b[38;5;28mself\u001b[39m\u001b[38;5;241m.\u001b[39m_make_legend()\n",
      "File \u001b[1;32md:\\Data\\Anaconda3\\Lib\\site-packages\\pandas\\plotting\\_matplotlib\\core.py:1885\u001b[0m, in \u001b[0;36mBarPlot._make_plot\u001b[1;34m(self, fig)\u001b[0m\n\u001b[0;32m   1884\u001b[0m \u001b[38;5;28;01mdef\u001b[39;00m \u001b[38;5;21m_make_plot\u001b[39m(\u001b[38;5;28mself\u001b[39m, fig: Figure) \u001b[38;5;241m-\u001b[39m\u001b[38;5;241m>\u001b[39m \u001b[38;5;28;01mNone\u001b[39;00m:\n\u001b[1;32m-> 1885\u001b[0m     colors \u001b[38;5;241m=\u001b[39m \u001b[38;5;28;43mself\u001b[39;49m\u001b[38;5;241;43m.\u001b[39;49m\u001b[43m_get_colors\u001b[49m\u001b[43m(\u001b[49m\u001b[43m)\u001b[49m\n\u001b[0;32m   1886\u001b[0m     ncolors \u001b[38;5;241m=\u001b[39m \u001b[38;5;28mlen\u001b[39m(colors)\n\u001b[0;32m   1888\u001b[0m     pos_prior \u001b[38;5;241m=\u001b[39m neg_prior \u001b[38;5;241m=\u001b[39m np\u001b[38;5;241m.\u001b[39mzeros(\u001b[38;5;28mlen\u001b[39m(\u001b[38;5;28mself\u001b[39m\u001b[38;5;241m.\u001b[39mdata))\n",
      "File \u001b[1;32md:\\Data\\Anaconda3\\Lib\\site-packages\\pandas\\plotting\\_matplotlib\\core.py:1088\u001b[0m, in \u001b[0;36mMPLPlot._get_colors\u001b[1;34m(self, num_colors, color_kwds)\u001b[0m\n\u001b[0;32m   1086\u001b[0m \u001b[38;5;28;01melse\u001b[39;00m:\n\u001b[0;32m   1087\u001b[0m     color \u001b[38;5;241m=\u001b[39m \u001b[38;5;28mself\u001b[39m\u001b[38;5;241m.\u001b[39mkwds\u001b[38;5;241m.\u001b[39mget(color_kwds)\n\u001b[1;32m-> 1088\u001b[0m \u001b[38;5;28;01mreturn\u001b[39;00m \u001b[43mget_standard_colors\u001b[49m\u001b[43m(\u001b[49m\n\u001b[0;32m   1089\u001b[0m \u001b[43m    \u001b[49m\u001b[43mnum_colors\u001b[49m\u001b[38;5;241;43m=\u001b[39;49m\u001b[43mnum_colors\u001b[49m\u001b[43m,\u001b[49m\n\u001b[0;32m   1090\u001b[0m \u001b[43m    \u001b[49m\u001b[43mcolormap\u001b[49m\u001b[38;5;241;43m=\u001b[39;49m\u001b[38;5;28;43mself\u001b[39;49m\u001b[38;5;241;43m.\u001b[39;49m\u001b[43mcolormap\u001b[49m\u001b[43m,\u001b[49m\n\u001b[0;32m   1091\u001b[0m \u001b[43m    \u001b[49m\u001b[43mcolor\u001b[49m\u001b[38;5;241;43m=\u001b[39;49m\u001b[43mcolor\u001b[49m\u001b[43m,\u001b[49m\n\u001b[0;32m   1092\u001b[0m \u001b[43m\u001b[49m\u001b[43m)\u001b[49m\n",
      "File \u001b[1;32md:\\Data\\Anaconda3\\Lib\\site-packages\\pandas\\plotting\\_matplotlib\\style.py:70\u001b[0m, in \u001b[0;36mget_standard_colors\u001b[1;34m(num_colors, colormap, color_type, color)\u001b[0m\n\u001b[0;32m     67\u001b[0m \u001b[38;5;28;01mif\u001b[39;00m \u001b[38;5;28misinstance\u001b[39m(color, \u001b[38;5;28mdict\u001b[39m):\n\u001b[0;32m     68\u001b[0m     \u001b[38;5;28;01mreturn\u001b[39;00m color\n\u001b[1;32m---> 70\u001b[0m colors \u001b[38;5;241m=\u001b[39m \u001b[43m_derive_colors\u001b[49m\u001b[43m(\u001b[49m\n\u001b[0;32m     71\u001b[0m \u001b[43m    \u001b[49m\u001b[43mcolor\u001b[49m\u001b[38;5;241;43m=\u001b[39;49m\u001b[43mcolor\u001b[49m\u001b[43m,\u001b[49m\n\u001b[0;32m     72\u001b[0m \u001b[43m    \u001b[49m\u001b[43mcolormap\u001b[49m\u001b[38;5;241;43m=\u001b[39;49m\u001b[43mcolormap\u001b[49m\u001b[43m,\u001b[49m\n\u001b[0;32m     73\u001b[0m \u001b[43m    \u001b[49m\u001b[43mcolor_type\u001b[49m\u001b[38;5;241;43m=\u001b[39;49m\u001b[43mcolor_type\u001b[49m\u001b[43m,\u001b[49m\n\u001b[0;32m     74\u001b[0m \u001b[43m    \u001b[49m\u001b[43mnum_colors\u001b[49m\u001b[38;5;241;43m=\u001b[39;49m\u001b[43mnum_colors\u001b[49m\u001b[43m,\u001b[49m\n\u001b[0;32m     75\u001b[0m \u001b[43m\u001b[49m\u001b[43m)\u001b[49m\n\u001b[0;32m     77\u001b[0m \u001b[38;5;28;01mreturn\u001b[39;00m \u001b[38;5;28mlist\u001b[39m(_cycle_colors(colors, num_colors\u001b[38;5;241m=\u001b[39mnum_colors))\n",
      "File \u001b[1;32md:\\Data\\Anaconda3\\Lib\\site-packages\\pandas\\plotting\\_matplotlib\\style.py:127\u001b[0m, in \u001b[0;36m_derive_colors\u001b[1;34m(color, colormap, color_type, num_colors)\u001b[0m\n\u001b[0;32m    122\u001b[0m     \u001b[38;5;28;01mif\u001b[39;00m colormap \u001b[38;5;129;01mis\u001b[39;00m \u001b[38;5;129;01mnot\u001b[39;00m \u001b[38;5;28;01mNone\u001b[39;00m:\n\u001b[0;32m    123\u001b[0m         warnings\u001b[38;5;241m.\u001b[39mwarn(\n\u001b[0;32m    124\u001b[0m             \u001b[38;5;124m\"\u001b[39m\u001b[38;5;124m'\u001b[39m\u001b[38;5;124mcolor\u001b[39m\u001b[38;5;124m'\u001b[39m\u001b[38;5;124m and \u001b[39m\u001b[38;5;124m'\u001b[39m\u001b[38;5;124mcolormap\u001b[39m\u001b[38;5;124m'\u001b[39m\u001b[38;5;124m cannot be used simultaneously. Using \u001b[39m\u001b[38;5;124m'\u001b[39m\u001b[38;5;124mcolor\u001b[39m\u001b[38;5;124m'\u001b[39m\u001b[38;5;124m\"\u001b[39m,\n\u001b[0;32m    125\u001b[0m             stacklevel\u001b[38;5;241m=\u001b[39mfind_stack_level(),\n\u001b[0;32m    126\u001b[0m         )\n\u001b[1;32m--> 127\u001b[0m     \u001b[38;5;28;01mreturn\u001b[39;00m \u001b[43m_get_colors_from_color\u001b[49m\u001b[43m(\u001b[49m\u001b[43mcolor\u001b[49m\u001b[43m)\u001b[49m\n\u001b[0;32m    128\u001b[0m \u001b[38;5;28;01melse\u001b[39;00m:\n\u001b[0;32m    129\u001b[0m     \u001b[38;5;28;01mreturn\u001b[39;00m _get_colors_from_color_type(color_type, num_colors\u001b[38;5;241m=\u001b[39mnum_colors)\n",
      "File \u001b[1;32md:\\Data\\Anaconda3\\Lib\\site-packages\\pandas\\plotting\\_matplotlib\\style.py:173\u001b[0m, in \u001b[0;36m_get_colors_from_color\u001b[1;34m(color)\u001b[0m\n\u001b[0;32m    170\u001b[0m     \u001b[38;5;28;01mreturn\u001b[39;00m [color]\n\u001b[0;32m    172\u001b[0m color \u001b[38;5;241m=\u001b[39m cast(Collection[Color], color)\n\u001b[1;32m--> 173\u001b[0m \u001b[38;5;28;01mreturn\u001b[39;00m \u001b[38;5;28;43mlist\u001b[39;49m\u001b[43m(\u001b[49m\u001b[43m_gen_list_of_colors_from_iterable\u001b[49m\u001b[43m(\u001b[49m\u001b[43mcolor\u001b[49m\u001b[43m)\u001b[49m\u001b[43m)\u001b[49m\n",
      "File \u001b[1;32md:\\Data\\Anaconda3\\Lib\\site-packages\\pandas\\plotting\\_matplotlib\\style.py:206\u001b[0m, in \u001b[0;36m_gen_list_of_colors_from_iterable\u001b[1;34m(color)\u001b[0m\n\u001b[0;32m    204\u001b[0m     \u001b[38;5;28;01myield\u001b[39;00m x\n\u001b[0;32m    205\u001b[0m \u001b[38;5;28;01melse\u001b[39;00m:\n\u001b[1;32m--> 206\u001b[0m     \u001b[38;5;28;01mraise\u001b[39;00m \u001b[38;5;167;01mValueError\u001b[39;00m(\u001b[38;5;124mf\u001b[39m\u001b[38;5;124m\"\u001b[39m\u001b[38;5;124mInvalid color \u001b[39m\u001b[38;5;132;01m{\u001b[39;00mx\u001b[38;5;132;01m}\u001b[39;00m\u001b[38;5;124m\"\u001b[39m)\n",
      "\u001b[1;31mValueError\u001b[0m: Invalid color rgb(141,211,199)"
     ]
    },
    {
     "data": {
      "image/png": "[encoded data removed]",
      "text/plain": [
       "<Figure size 1500x1000 with 1 Axes>"
      ]
     },
     "metadata": {},
     "output_type": "display_data"
    }
   ],
   "source": [
    "# 5. VISUALIZATION CREATION\n",
    "print(\"\\n\\n5. CREATING VISUALIZATIONS\")\n",
    "print(\"-\"*35)\n",
    "\n",
    "# Set up the plotting environment\n",
    "fig_size = (15, 10)\n",
    "colors = px.colors.qualitative.Set3\n",
    "\n",
    "# Visualization 1: Market Share by Make\n",
    "plt.figure(figsize=fig_size)\n",
    "top_makes = make_counts.head(15)\n",
    "plt.subplot(2, 3, 1)\n",
    "top_makes.plot(kind='bar', color=colors[:len(top_makes)])\n",
    "plt.title('Top 15 EV Makes by Registration Count', fontsize=12, fontweight='bold')\n",
    "plt.xlabel('Make')\n",
    "plt.ylabel('Count')\n",
    "plt.xticks(rotation=45)"
   ]
  },
  {
   "cell_type": "code",
   "execution_count": 29,
   "id": "c3b340ac",
   "metadata": {},
   "outputs": [
    {
     "data": {
      "image/png": "[encoded data removed]",
      "text/plain": [
       "<Figure size 800x550 with 1 Axes>"
      ]
     },
     "metadata": {},
     "output_type": "display_data"
    }
   ],
   "source": [
    "# Visualization 2: EV Adoption Over Time\n",
    "plt.subplot(2, 3, 2)\n",
    "model_year_counts.plot(kind='line', marker='o', linewidth=2, markersize=6)\n",
    "plt.title('Electric Vehicle Adoption Trend', fontsize=12, fontweight='bold')\n",
    "plt.xlabel('Model Year')\n",
    "plt.ylabel('Number of Vehicles')\n",
    "plt.grid(True, alpha=0.3)"
   ]
  },
  {
   "cell_type": "code",
   "execution_count": 33,
   "id": "55bae77b",
   "metadata": {},
   "outputs": [
    {
     "name": "stdout",
     "output_type": "stream",
     "text": [
      "\n",
      "\n",
      "5. CREATING VISUALIZATIONS\n",
      "-----------------------------------\n"
     ]
    },
    {
     "ename": "ValueError",
     "evalue": "'rgb(141,211,199)' is not a valid color value.",
     "output_type": "error",
     "traceback": [
      "\u001b[1;31m---------------------------------------------------------------------------\u001b[0m",
      "\u001b[1;31mValueError\u001b[0m                                Traceback (most recent call last)",
      "Cell \u001b[1;32mIn[33], line 43\u001b[0m\n\u001b[0;32m     41\u001b[0m \u001b[38;5;28;01mif\u001b[39;00m \u001b[38;5;124m'\u001b[39m\u001b[38;5;124mElectric Range\u001b[39m\u001b[38;5;124m'\u001b[39m \u001b[38;5;129;01min\u001b[39;00m df\u001b[38;5;241m.\u001b[39mcolumns:\n\u001b[0;32m     42\u001b[0m     plt\u001b[38;5;241m.\u001b[39msubplot(\u001b[38;5;241m2\u001b[39m, \u001b[38;5;241m3\u001b[39m, \u001b[38;5;241m5\u001b[39m)\n\u001b[1;32m---> 43\u001b[0m     \u001b[43mdf\u001b[49m\u001b[43m[\u001b[49m\u001b[43mdf\u001b[49m\u001b[43m[\u001b[49m\u001b[38;5;124;43m'\u001b[39;49m\u001b[38;5;124;43mElectric Range\u001b[39;49m\u001b[38;5;124;43m'\u001b[39;49m\u001b[43m]\u001b[49m\u001b[43m \u001b[49m\u001b[38;5;241;43m>\u001b[39;49m\u001b[43m \u001b[49m\u001b[38;5;241;43m0\u001b[39;49m\u001b[43m]\u001b[49m\u001b[43m[\u001b[49m\u001b[38;5;124;43m'\u001b[39;49m\u001b[38;5;124;43mElectric Range\u001b[39;49m\u001b[38;5;124;43m'\u001b[39;49m\u001b[43m]\u001b[49m\u001b[38;5;241;43m.\u001b[39;49m\u001b[43mhist\u001b[49m\u001b[43m(\u001b[49m\u001b[43mbins\u001b[49m\u001b[38;5;241;43m=\u001b[39;49m\u001b[38;5;241;43m30\u001b[39;49m\u001b[43m,\u001b[49m\u001b[43m \u001b[49m\u001b[43malpha\u001b[49m\u001b[38;5;241;43m=\u001b[39;49m\u001b[38;5;241;43m0.7\u001b[39;49m\u001b[43m,\u001b[49m\u001b[43m \u001b[49m\u001b[43mcolor\u001b[49m\u001b[38;5;241;43m=\u001b[39;49m\u001b[43mcolors\u001b[49m\u001b[43m[\u001b[49m\u001b[38;5;241;43m0\u001b[39;49m\u001b[43m]\u001b[49m\u001b[43m)\u001b[49m\n\u001b[0;32m     44\u001b[0m     plt\u001b[38;5;241m.\u001b[39mtitle(\u001b[38;5;124m'\u001b[39m\u001b[38;5;124mElectric Range Distribution\u001b[39m\u001b[38;5;124m'\u001b[39m, fontsize\u001b[38;5;241m=\u001b[39m\u001b[38;5;241m12\u001b[39m, fontweight\u001b[38;5;241m=\u001b[39m\u001b[38;5;124m'\u001b[39m\u001b[38;5;124mbold\u001b[39m\u001b[38;5;124m'\u001b[39m)\n\u001b[0;32m     45\u001b[0m     plt\u001b[38;5;241m.\u001b[39mxlabel(\u001b[38;5;124m'\u001b[39m\u001b[38;5;124mElectric Range (miles)\u001b[39m\u001b[38;5;124m'\u001b[39m)\n",
      "File \u001b[1;32md:\\Data\\Anaconda3\\Lib\\site-packages\\pandas\\plotting\\_core.py:129\u001b[0m, in \u001b[0;36mhist_series\u001b[1;34m(self, by, ax, grid, xlabelsize, xrot, ylabelsize, yrot, figsize, bins, backend, legend, **kwargs)\u001b[0m\n\u001b[0;32m     62\u001b[0m \u001b[38;5;250m\u001b[39m\u001b[38;5;124;03m\"\"\"\u001b[39;00m\n\u001b[0;32m     63\u001b[0m \u001b[38;5;124;03mDraw histogram of the input series using matplotlib.\u001b[39;00m\n\u001b[0;32m     64\u001b[0m \n\u001b[1;32m   (...)\u001b[0m\n\u001b[0;32m    126\u001b[0m \u001b[38;5;124;03m    >>> hist = ser.groupby(level=0).hist()\u001b[39;00m\n\u001b[0;32m    127\u001b[0m \u001b[38;5;124;03m\"\"\"\u001b[39;00m\n\u001b[0;32m    128\u001b[0m plot_backend \u001b[38;5;241m=\u001b[39m _get_plot_backend(backend)\n\u001b[1;32m--> 129\u001b[0m \u001b[38;5;28;01mreturn\u001b[39;00m \u001b[43mplot_backend\u001b[49m\u001b[38;5;241;43m.\u001b[39;49m\u001b[43mhist_series\u001b[49m\u001b[43m(\u001b[49m\n\u001b[0;32m    130\u001b[0m \u001b[43m    \u001b[49m\u001b[38;5;28;43mself\u001b[39;49m\u001b[43m,\u001b[49m\n\u001b[0;32m    131\u001b[0m \u001b[43m    \u001b[49m\u001b[43mby\u001b[49m\u001b[38;5;241;43m=\u001b[39;49m\u001b[43mby\u001b[49m\u001b[43m,\u001b[49m\n\u001b[0;32m    132\u001b[0m \u001b[43m    \u001b[49m\u001b[43max\u001b[49m\u001b[38;5;241;43m=\u001b[39;49m\u001b[43max\u001b[49m\u001b[43m,\u001b[49m\n\u001b[0;32m    133\u001b[0m \u001b[43m    \u001b[49m\u001b[43mgrid\u001b[49m\u001b[38;5;241;43m=\u001b[39;49m\u001b[43mgrid\u001b[49m\u001b[43m,\u001b[49m\n\u001b[0;32m    134\u001b[0m \u001b[43m    \u001b[49m\u001b[43mxlabelsize\u001b[49m\u001b[38;5;241;43m=\u001b[39;49m\u001b[43mxlabelsize\u001b[49m\u001b[43m,\u001b[49m\n\u001b[0;32m    135\u001b[0m \u001b[43m    \u001b[49m\u001b[43mxrot\u001b[49m\u001b[38;5;241;43m=\u001b[39;49m\u001b[43mxrot\u001b[49m\u001b[43m,\u001b[49m\n\u001b[0;32m    136\u001b[0m \u001b[43m    \u001b[49m\u001b[43mylabelsize\u001b[49m\u001b[38;5;241;43m=\u001b[39;49m\u001b[43mylabelsize\u001b[49m\u001b[43m,\u001b[49m\n\u001b[0;32m    137\u001b[0m \u001b[43m    \u001b[49m\u001b[43myrot\u001b[49m\u001b[38;5;241;43m=\u001b[39;49m\u001b[43myrot\u001b[49m\u001b[43m,\u001b[49m\n\u001b[0;32m    138\u001b[0m \u001b[43m    \u001b[49m\u001b[43mfigsize\u001b[49m\u001b[38;5;241;43m=\u001b[39;49m\u001b[43mfigsize\u001b[49m\u001b[43m,\u001b[49m\n\u001b[0;32m    139\u001b[0m \u001b[43m    \u001b[49m\u001b[43mbins\u001b[49m\u001b[38;5;241;43m=\u001b[39;49m\u001b[43mbins\u001b[49m\u001b[43m,\u001b[49m\n\u001b[0;32m    140\u001b[0m \u001b[43m    \u001b[49m\u001b[43mlegend\u001b[49m\u001b[38;5;241;43m=\u001b[39;49m\u001b[43mlegend\u001b[49m\u001b[43m,\u001b[49m\n\u001b[0;32m    141\u001b[0m \u001b[43m    \u001b[49m\u001b[38;5;241;43m*\u001b[39;49m\u001b[38;5;241;43m*\u001b[39;49m\u001b[43mkwargs\u001b[49m\u001b[43m,\u001b[49m\n\u001b[0;32m    142\u001b[0m \u001b[43m\u001b[49m\u001b[43m)\u001b[49m\n",
      "File \u001b[1;32md:\\Data\\Anaconda3\\Lib\\site-packages\\pandas\\plotting\\_matplotlib\\hist.py:454\u001b[0m, in \u001b[0;36mhist_series\u001b[1;34m(self, by, ax, grid, xlabelsize, xrot, ylabelsize, yrot, figsize, bins, legend, **kwds)\u001b[0m\n\u001b[0;32m    452\u001b[0m \u001b[38;5;28;01mif\u001b[39;00m legend:\n\u001b[0;32m    453\u001b[0m     kwds[\u001b[38;5;124m\"\u001b[39m\u001b[38;5;124mlabel\u001b[39m\u001b[38;5;124m\"\u001b[39m] \u001b[38;5;241m=\u001b[39m \u001b[38;5;28mself\u001b[39m\u001b[38;5;241m.\u001b[39mname\n\u001b[1;32m--> 454\u001b[0m \u001b[43max\u001b[49m\u001b[38;5;241;43m.\u001b[39;49m\u001b[43mhist\u001b[49m\u001b[43m(\u001b[49m\u001b[43mvalues\u001b[49m\u001b[43m,\u001b[49m\u001b[43m \u001b[49m\u001b[43mbins\u001b[49m\u001b[38;5;241;43m=\u001b[39;49m\u001b[43mbins\u001b[49m\u001b[43m,\u001b[49m\u001b[43m \u001b[49m\u001b[38;5;241;43m*\u001b[39;49m\u001b[38;5;241;43m*\u001b[39;49m\u001b[43mkwds\u001b[49m\u001b[43m)\u001b[49m\n\u001b[0;32m    455\u001b[0m \u001b[38;5;28;01mif\u001b[39;00m legend:\n\u001b[0;32m    456\u001b[0m     ax\u001b[38;5;241m.\u001b[39mlegend()\n",
      "File \u001b[1;32md:\\Data\\Anaconda3\\Lib\\site-packages\\matplotlib\\__init__.py:1473\u001b[0m, in \u001b[0;36m_preprocess_data.<locals>.inner\u001b[1;34m(ax, data, *args, **kwargs)\u001b[0m\n\u001b[0;32m   1470\u001b[0m \u001b[38;5;129m@functools\u001b[39m\u001b[38;5;241m.\u001b[39mwraps(func)\n\u001b[0;32m   1471\u001b[0m \u001b[38;5;28;01mdef\u001b[39;00m \u001b[38;5;21minner\u001b[39m(ax, \u001b[38;5;241m*\u001b[39margs, data\u001b[38;5;241m=\u001b[39m\u001b[38;5;28;01mNone\u001b[39;00m, \u001b[38;5;241m*\u001b[39m\u001b[38;5;241m*\u001b[39mkwargs):\n\u001b[0;32m   1472\u001b[0m     \u001b[38;5;28;01mif\u001b[39;00m data \u001b[38;5;129;01mis\u001b[39;00m \u001b[38;5;28;01mNone\u001b[39;00m:\n\u001b[1;32m-> 1473\u001b[0m         \u001b[38;5;28;01mreturn\u001b[39;00m \u001b[43mfunc\u001b[49m\u001b[43m(\u001b[49m\n\u001b[0;32m   1474\u001b[0m \u001b[43m            \u001b[49m\u001b[43max\u001b[49m\u001b[43m,\u001b[49m\n\u001b[0;32m   1475\u001b[0m \u001b[43m            \u001b[49m\u001b[38;5;241;43m*\u001b[39;49m\u001b[38;5;28;43mmap\u001b[39;49m\u001b[43m(\u001b[49m\u001b[43msanitize_sequence\u001b[49m\u001b[43m,\u001b[49m\u001b[43m \u001b[49m\u001b[43margs\u001b[49m\u001b[43m)\u001b[49m\u001b[43m,\u001b[49m\n\u001b[0;32m   1476\u001b[0m \u001b[43m            \u001b[49m\u001b[38;5;241;43m*\u001b[39;49m\u001b[38;5;241;43m*\u001b[39;49m\u001b[43m{\u001b[49m\u001b[43mk\u001b[49m\u001b[43m:\u001b[49m\u001b[43m \u001b[49m\u001b[43msanitize_sequence\u001b[49m\u001b[43m(\u001b[49m\u001b[43mv\u001b[49m\u001b[43m)\u001b[49m\u001b[43m \u001b[49m\u001b[38;5;28;43;01mfor\u001b[39;49;00m\u001b[43m \u001b[49m\u001b[43mk\u001b[49m\u001b[43m,\u001b[49m\u001b[43m \u001b[49m\u001b[43mv\u001b[49m\u001b[43m \u001b[49m\u001b[38;5;129;43;01min\u001b[39;49;00m\u001b[43m \u001b[49m\u001b[43mkwargs\u001b[49m\u001b[38;5;241;43m.\u001b[39;49m\u001b[43mitems\u001b[49m\u001b[43m(\u001b[49m\u001b[43m)\u001b[49m\u001b[43m}\u001b[49m\u001b[43m)\u001b[49m\n\u001b[0;32m   1478\u001b[0m     bound \u001b[38;5;241m=\u001b[39m new_sig\u001b[38;5;241m.\u001b[39mbind(ax, \u001b[38;5;241m*\u001b[39margs, \u001b[38;5;241m*\u001b[39m\u001b[38;5;241m*\u001b[39mkwargs)\n\u001b[0;32m   1479\u001b[0m     auto_label \u001b[38;5;241m=\u001b[39m (bound\u001b[38;5;241m.\u001b[39marguments\u001b[38;5;241m.\u001b[39mget(label_namer)\n\u001b[0;32m   1480\u001b[0m                   \u001b[38;5;129;01mor\u001b[39;00m bound\u001b[38;5;241m.\u001b[39mkwargs\u001b[38;5;241m.\u001b[39mget(label_namer))\n",
      "File \u001b[1;32md:\\Data\\Anaconda3\\Lib\\site-packages\\matplotlib\\axes\\_axes.py:6955\u001b[0m, in \u001b[0;36mAxes.hist\u001b[1;34m(self, x, bins, range, density, weights, cumulative, bottom, histtype, align, orientation, rwidth, log, color, label, stacked, **kwargs)\u001b[0m\n\u001b[0;32m   6953\u001b[0m     colors \u001b[38;5;241m=\u001b[39m [\u001b[38;5;28mself\u001b[39m\u001b[38;5;241m.\u001b[39m_get_lines\u001b[38;5;241m.\u001b[39mget_next_color() \u001b[38;5;28;01mfor\u001b[39;00m i \u001b[38;5;129;01min\u001b[39;00m \u001b[38;5;28mrange\u001b[39m(nx)]\n\u001b[0;32m   6954\u001b[0m \u001b[38;5;28;01melse\u001b[39;00m:\n\u001b[1;32m-> 6955\u001b[0m     colors \u001b[38;5;241m=\u001b[39m \u001b[43mmcolors\u001b[49m\u001b[38;5;241;43m.\u001b[39;49m\u001b[43mto_rgba_array\u001b[49m\u001b[43m(\u001b[49m\u001b[43mcolor\u001b[49m\u001b[43m)\u001b[49m\n\u001b[0;32m   6956\u001b[0m     \u001b[38;5;28;01mif\u001b[39;00m \u001b[38;5;28mlen\u001b[39m(colors) \u001b[38;5;241m!=\u001b[39m nx:\n\u001b[0;32m   6957\u001b[0m         \u001b[38;5;28;01mraise\u001b[39;00m \u001b[38;5;167;01mValueError\u001b[39;00m(\u001b[38;5;124mf\u001b[39m\u001b[38;5;124m\"\u001b[39m\u001b[38;5;124mThe \u001b[39m\u001b[38;5;124m'\u001b[39m\u001b[38;5;124mcolor\u001b[39m\u001b[38;5;124m'\u001b[39m\u001b[38;5;124m keyword argument must have one \u001b[39m\u001b[38;5;124m\"\u001b[39m\n\u001b[0;32m   6958\u001b[0m                          \u001b[38;5;124mf\u001b[39m\u001b[38;5;124m\"\u001b[39m\u001b[38;5;124mcolor per dataset, but \u001b[39m\u001b[38;5;132;01m{\u001b[39;00mnx\u001b[38;5;132;01m}\u001b[39;00m\u001b[38;5;124m datasets and \u001b[39m\u001b[38;5;124m\"\u001b[39m\n\u001b[0;32m   6959\u001b[0m                          \u001b[38;5;124mf\u001b[39m\u001b[38;5;124m\"\u001b[39m\u001b[38;5;132;01m{\u001b[39;00m\u001b[38;5;28mlen\u001b[39m(colors)\u001b[38;5;132;01m}\u001b[39;00m\u001b[38;5;124m colors were provided\u001b[39m\u001b[38;5;124m\"\u001b[39m)\n",
      "File \u001b[1;32md:\\Data\\Anaconda3\\Lib\\site-packages\\matplotlib\\colors.py:496\u001b[0m, in \u001b[0;36mto_rgba_array\u001b[1;34m(c, alpha)\u001b[0m\n\u001b[0;32m    494\u001b[0m         \u001b[38;5;28;01mraise\u001b[39;00m e\n\u001b[0;32m    495\u001b[0m \u001b[38;5;28;01mif\u001b[39;00m \u001b[38;5;28misinstance\u001b[39m(c, \u001b[38;5;28mstr\u001b[39m):\n\u001b[1;32m--> 496\u001b[0m     \u001b[38;5;28;01mraise\u001b[39;00m \u001b[38;5;167;01mValueError\u001b[39;00m(\u001b[38;5;124mf\u001b[39m\u001b[38;5;124m\"\u001b[39m\u001b[38;5;132;01m{\u001b[39;00mc\u001b[38;5;132;01m!r}\u001b[39;00m\u001b[38;5;124m is not a valid color value.\u001b[39m\u001b[38;5;124m\"\u001b[39m)\n\u001b[0;32m    498\u001b[0m \u001b[38;5;28;01mif\u001b[39;00m \u001b[38;5;28mlen\u001b[39m(c) \u001b[38;5;241m==\u001b[39m \u001b[38;5;241m0\u001b[39m:\n\u001b[0;32m    499\u001b[0m     \u001b[38;5;28;01mreturn\u001b[39;00m np\u001b[38;5;241m.\u001b[39mzeros((\u001b[38;5;241m0\u001b[39m, \u001b[38;5;241m4\u001b[39m), \u001b[38;5;28mfloat\u001b[39m)\n",
      "\u001b[1;31mValueError\u001b[0m: 'rgb(141,211,199)' is not a valid color value."
     ]
    },
    {
     "data": {
      "image/png": "[encoded data removed]",
      "text/plain": [
       "<Figure size 1500x1000 with 5 Axes>"
      ]
     },
     "metadata": {},
     "output_type": "display_data"
    }
   ],
   "source": [
    "# 5. VISUALIZATION CREATION\n",
    "print(\"\\n\\n5. CREATING VISUALIZATIONS\")\n",
    "print(\"-\"*35)\n",
    "\n",
    "# Set up the plotting environment\n",
    "fig_size = (15, 10)\n",
    "colors = px.colors.qualitative.Set3\n",
    "\n",
    "# Visualization 1: Market Share by Make\n",
    "plt.figure(figsize=fig_size)\n",
    "top_makes = make_counts.head(15)\n",
    "plt.subplot(2, 3, 1)\n",
    "# top_makes.plot(kind='bar', color=colors[:len(top_makes)])\n",
    "plt.title('Top 15 EV Makes by Registration Count', fontsize=12, fontweight='bold')\n",
    "plt.xlabel('Make')\n",
    "plt.ylabel('Count')\n",
    "plt.xticks(rotation=45)\n",
    "\n",
    "# Visualization 2: EV Adoption Over Time\n",
    "plt.subplot(2, 3, 2)\n",
    "model_year_counts.plot(kind='line', marker='o', linewidth=2, markersize=6)\n",
    "plt.title('Electric Vehicle Adoption Trend', fontsize=12, fontweight='bold')\n",
    "plt.xlabel('Model Year')\n",
    "plt.ylabel('Number of Vehicles')\n",
    "plt.grid(True, alpha=0.3)\n",
    "\n",
    "# Visualization 3: Vehicle Type Distribution\n",
    "plt.subplot(2, 3, 3)\n",
    "# ev_type_counts.plot(kind='pie', autopct='%1.1f%%', colors=colors)\n",
    "plt.title('Electric Vehicle Type Distribution', fontsize=12, fontweight='bold')\n",
    "plt.ylabel('')\n",
    "\n",
    "# Visualization 4: Geographic Distribution\n",
    "plt.subplot(2, 3, 4)\n",
    "top_states = state_counts.head(10)\n",
    "# top_states.plot(kind='barh', color=colors[:len(top_states)])\n",
    "plt.title('Top 10 States by EV Count', fontsize=12, fontweight='bold')\n",
    "plt.xlabel('Count')\n",
    "\n",
    "# Visualization 5: Electric Range Distribution\n",
    "if 'Electric Range' in df.columns:\n",
    "    plt.subplot(2, 3, 5)\n",
    "    df[df['Electric Range'] > 0]['Electric Range'].hist(bins=30, alpha=0.7, color=colors[0])\n",
    "    plt.title('Electric Range Distribution', fontsize=12, fontweight='bold')\n",
    "    plt.xlabel('Electric Range (miles)')\n",
    "    plt.ylabel('Frequency')\n",
    "\n",
    "# Visualization 6: CAFV Eligibility\n",
    "plt.subplot(2, 3, 6)\n",
    "cafv_counts.plot(kind='bar', color=colors[:len(cafv_counts)])\n",
    "plt.title('CAFV Eligibility Status', fontsize=12, fontweight='bold')\n",
    "plt.xlabel('Eligibility Status')\n",
    "plt.ylabel('Count')\n",
    "plt.xticks(rotation=45)\n",
    "\n",
    "plt.tight_layout()\n",
    "plt.show()\n",
    "\n",
    "# 6. INTERACTIVE PLOTLY VISUALIZATIONS\n",
    "print(\"\\n\\n6. INTERACTIVE VISUALIZATIONS\")\n",
    "print(\"-\"*35)\n",
    "\n",
    "# Interactive Visualization 1: Market Share Treemap\n",
    "fig1 = px.treemap(\n",
    "    values=make_counts.head(20).values,\n",
    "    names=make_counts.head(20).index,\n",
    "    title=\"Electric Vehicle Market Share - Top 20 Makes\",\n",
    "    color=make_counts.head(20).values,\n",
    "    color_continuous_scale='Viridis'\n",
    ")\n",
    "fig1.show()\n",
    "\n",
    "# Interactive Visualization 2: Time Series Analysis\n",
    "yearly_data = df.groupby('Model Year').size().reset_index()\n",
    "yearly_data.columns = ['Year', 'Count']\n",
    "\n",
    "fig2 = px.line(\n",
    "    yearly_data, \n",
    "    x='Year', \n",
    "    y='Count',\n",
    "    title='Electric Vehicle Registration Trend Over Years',\n",
    "    markers=True\n",
    ")\n",
    "fig2.update_layout(\n",
    "    xaxis_title=\"Model Year\",\n",
    "    yaxis_title=\"Number of Registrations\",\n",
    "    hovermode='x'\n",
    ")\n",
    "fig2.show()\n",
    "\n",
    "# Interactive Visualization 3: Geographic Heatmap\n",
    "state_data = df['State'].value_counts().reset_index()\n",
    "state_data.columns = ['State', 'Count']\n",
    "\n",
    "fig3 = px.choropleth(\n",
    "    state_data,\n",
    "    locations='State',\n",
    "    color='Count',\n",
    "    locationmode='USA-states',\n",
    "    title='Electric Vehicle Distribution Across US States',\n",
    "    color_continuous_scale='Blues'\n",
    ")\n",
    "fig3.update_layout(geo_scope=\"usa\")\n",
    "fig3.show()\n",
    "\n",
    "# Interactive Visualization 4: Make vs Range Analysis\n",
    "if 'Electric Range' in df.columns:\n",
    "    top_makes_list = make_counts.head(10).index.tolist()\n",
    "    range_data = df[df['Make'].isin(top_makes_list) & (df['Electric Range'] > 0)]\n",
    "    \n",
    "    fig4 = px.box(\n",
    "        range_data,\n",
    "        x='Make',\n",
    "        y='Electric Range',\n",
    "        title='Electric Range Distribution by Top Makes',\n",
    "        color='Make'\n",
    "    )\n",
    "    fig4.update_xaxis(tickangle=45)\n",
    "    fig4.show()\n",
    "\n",
    "# Interactive Visualization 5: Multi-dimensional Analysis\n",
    "fig5 = px.scatter(\n",
    "    df[df['Electric Range'] > 0],\n",
    "    x='Model Year',\n",
    "    y='Electric Range',\n",
    "    color='Electric Vehicle Type',\n",
    "    size='Electric Range',\n",
    "    hover_data=['Make', 'Model'],\n",
    "    title='Electric Vehicle Range Evolution Over Time'\n",
    ")\n",
    "fig5.show()"
   ]
  },
  {
   "cell_type": "code",
   "execution_count": 34,
   "id": "29150807",
   "metadata": {},
   "outputs": [
    {
     "name": "stdout",
     "output_type": "stream",
     "text": [
      "\n",
      "\n",
      "7. CORRELATION ANALYSIS\n",
      "-------------------------\n"
     ]
    },
    {
     "data": {
      "image/png": "[encoded data removed]",
      "text/plain": [
       "<Figure size 1000x800 with 2 Axes>"
      ]
     },
     "metadata": {},
     "output_type": "display_data"
    },
    {
     "name": "stdout",
     "output_type": "stream",
     "text": [
      "Correlation Matrix:\n",
      "                      Postal Code  Model Year  Electric Range  Base MSRP  \\\n",
      "Postal Code              1.000000   -0.000064       -0.000402  -0.003590   \n",
      "Model Year              -0.000064    1.000000       -0.476852  -0.230492   \n",
      "Electric Range          -0.000402   -0.476852        1.000000   0.108231   \n",
      "Base MSRP               -0.003590   -0.230492        0.108231   1.000000   \n",
      "Legislative District    -0.051064   -0.016389        0.021713   0.011872   \n",
      "DOL Vehicle ID           0.006472    0.134835       -0.093874  -0.027383   \n",
      "2020 Census Tract        0.497517    0.007564       -0.000929  -0.000613   \n",
      "\n",
      "                      Legislative District  DOL Vehicle ID  2020 Census Tract  \n",
      "Postal Code                      -0.051064        0.006472           0.497517  \n",
      "Model Year                       -0.016389        0.134835           0.007564  \n",
      "Electric Range                    0.021713       -0.093874          -0.000929  \n",
      "Base MSRP                         0.011872       -0.027383          -0.000613  \n",
      "Legislative District              1.000000       -0.012115          -0.001058  \n",
      "DOL Vehicle ID                   -0.012115        1.000000           0.003449  \n",
      "2020 Census Tract                -0.001058        0.003449           1.000000  \n"
     ]
    }
   ],
   "source": [
    "# 7. CORRELATION ANALYSIS\n",
    "print(\"\\n\\n7. CORRELATION ANALYSIS\")\n",
    "print(\"-\"*25)\n",
    "\n",
    "# Select numerical columns for correlation\n",
    "numerical_data = df.select_dtypes(include=[np.number])\n",
    "if len(numerical_data.columns) > 1:\n",
    "    correlation_matrix = numerical_data.corr()\n",
    "    \n",
    "    plt.figure(figsize=(10, 8))\n",
    "    sns.heatmap(\n",
    "        correlation_matrix, \n",
    "        annot=True, \n",
    "        cmap='coolwarm', \n",
    "        center=0,\n",
    "        square=True,\n",
    "        fmt='.2f'\n",
    "    )\n",
    "    plt.title('Correlation Matrix - Numerical Variables', fontsize=14, fontweight='bold')\n",
    "    plt.tight_layout()\n",
    "    plt.show()\n",
    "    \n",
    "    print(\"Correlation Matrix:\")\n",
    "    print(correlation_matrix)\n",
    "\n"
   ]
  },
  {
   "cell_type": "code",
   "execution_count": 35,
   "id": "99ed34e5",
   "metadata": {},
   "outputs": [
    {
     "name": "stdout",
     "output_type": "stream",
     "text": [
      "\n",
      "\n",
      "8. KEY INSIGHTS AND SUMMARY\n",
      "-----------------------------------\n",
      "KEY INSIGHTS:\n",
      "• TESLA dominates the market with 79,659 vehicles (44.8%)\n",
      "• EV registrations grew by -39.8% over the last 5 years\n",
      "• Battery Electric Vehicle (BEV) vehicles represent 78.3% of all EVs\n",
      "• WA leads in EV adoption with 99.8% of all registrations\n",
      "• Average electric range is 122 miles\n",
      "• 0.0% of vehicles are CAFV eligible\n",
      "\n",
      "Dataset contains 177,866 electric vehicle records\n",
      "Analysis completed successfully!\n"
     ]
    }
   ],
   "source": [
    "# 8. KEY INSIGHTS AND SUMMARY\n",
    "print(\"\\n\\n8. KEY INSIGHTS AND SUMMARY\")\n",
    "print(\"-\"*35)\n",
    "\n",
    "insights = []\n",
    "\n",
    "# Market dominance\n",
    "top_make = make_counts.index[0]\n",
    "top_make_percentage = (make_counts.iloc[0] / len(df)) * 100\n",
    "insights.append(f\"• {top_make} dominates the market with {make_counts.iloc[0]:,} vehicles ({top_make_percentage:.1f}%)\")\n",
    "\n",
    "# Growth trend\n",
    "recent_years = model_year_counts.tail(5)\n",
    "growth_rate = ((recent_years.iloc[-1] - recent_years.iloc[0]) / recent_years.iloc[0]) * 100\n",
    "insights.append(f\"• EV registrations grew by {growth_rate:.1f}% over the last 5 years\")\n",
    "\n",
    "# Vehicle type preference\n",
    "most_common_type = ev_type_counts.index[0]\n",
    "type_percentage = (ev_type_counts.iloc[0] / len(df)) * 100\n",
    "insights.append(f\"• {most_common_type} vehicles represent {type_percentage:.1f}% of all EVs\")\n",
    "\n",
    "# Geographic concentration\n",
    "top_state = state_counts.index[0]\n",
    "state_percentage = (state_counts.iloc[0] / len(df)) * 100\n",
    "insights.append(f\"• {top_state} leads in EV adoption with {state_percentage:.1f}% of all registrations\")\n",
    "\n",
    "# Range insights\n",
    "if 'Electric Range' in df.columns:\n",
    "    avg_range = df[df['Electric Range'] > 0]['Electric Range'].mean()\n",
    "    insights.append(f\"• Average electric range is {avg_range:.0f} miles\")\n",
    "\n",
    "# CAFV eligibility\n",
    "eligible_percentage = (cafv_counts.get('Eligible', 0) / len(df)) * 100\n",
    "insights.append(f\"• {eligible_percentage:.1f}% of vehicles are CAFV eligible\")\n",
    "\n",
    "print(\"KEY INSIGHTS:\")\n",
    "for insight in insights:\n",
    "    print(insight)\n",
    "\n",
    "print(f\"\\nDataset contains {len(df):,} electric vehicle records\")\n",
    "print(\"Analysis completed successfully!\")"
   ]
  },
  {
   "cell_type": "code",
   "execution_count": 36,
   "id": "b019b034",
   "metadata": {},
   "outputs": [
    {
     "name": "stdout",
     "output_type": "stream",
     "text": [
      "\n",
      "\n",
      "9. EXPORTING SUMMARY\n",
      "-------------------------\n",
      "Summary Statistics Dictionary Created:\n",
      "total_vehicles: 177866\n",
      "unique_makes: 40\n",
      "unique_models: 139\n",
      "year_range: 1997 - 2024\n",
      "states_covered: 46\n",
      "avg_range: 121.81689091670934\n",
      "top_make: TESLA\n",
      "most_common_type: Battery Electric Vehicle (BEV)\n",
      "\n",
      "==================================================\n",
      "ANALYSIS COMPLETE - Ready for Streamlit App!\n",
      "==================================================\n"
     ]
    }
   ],
   "source": [
    "# 9. EXPORT SUMMARY STATISTICS\n",
    "print(\"\\n\\n9. EXPORTING SUMMARY\")\n",
    "print(\"-\"*25)\n",
    "\n",
    "# Create summary dictionary\n",
    "summary_stats = {\n",
    "    'total_vehicles': len(df),\n",
    "    'unique_makes': df['Make'].nunique(),\n",
    "    'unique_models': df['Model'].nunique(),\n",
    "    'year_range': f\"{df['Model Year'].min()} - {df['Model Year'].max()}\",\n",
    "    'states_covered': df['State'].nunique(),\n",
    "    'avg_range': df[df['Electric Range'] > 0]['Electric Range'].mean() if 'Electric Range' in df.columns else 0,\n",
    "    'top_make': top_make,\n",
    "    'most_common_type': most_common_type\n",
    "}\n",
    "\n",
    "print(\"Summary Statistics Dictionary Created:\")\n",
    "for key, value in summary_stats.items():\n",
    "    print(f\"{key}: {value}\")\n",
    "\n",
    "print(\"\\n\" + \"=\"*50)\n",
    "print(\"ANALYSIS COMPLETE - Ready for Streamlit App!\")\n",
    "print(\"=\"*50)\n"
   ]
  },
  {
   "cell_type": "code",
   "execution_count": null,
   "id": "b361d0a9",
   "metadata": {},
   "outputs": [],
   "source": []
  }
 ],
 "metadata": {
  "kernelspec": {
   "display_name": "base",
   "language": "python",
   "name": "python3"
  },
  "language_info": {
   "codemirror_mode": {
    "name": "ipython",
    "version": 3
   },
   "file_extension": ".py",
   "mimetype": "text/x-python",
   "name": "python",
   "nbconvert_exporter": "python",
   "pygments_lexer": "ipython3",
   "version": "3.12.7"
  }
 },
 "nbformat": 4,
 "nbformat_minor": 5
}
